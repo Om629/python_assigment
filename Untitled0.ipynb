{
  "cells": [
    {
      "cell_type": "markdown",
      "metadata": {
        "id": "view-in-github",
        "colab_type": "text"
      },
      "source": [
        "<a href=\"https://colab.research.google.com/github/Om629/python_assigment/blob/main/Untitled0.ipynb\" target=\"_parent\"><img src=\"https://colab.research.google.com/assets/colab-badge.svg\" alt=\"Open In Colab\"/></a>"
      ]
    },
    {
      "cell_type": "markdown",
      "metadata": {
        "id": "YjWJ8m6O7eps"
      },
      "source": [
        "Flairminds Python Assignment"
      ]
    },
    {
      "cell_type": "markdown",
      "metadata": {
        "id": "mw2TNgYi76Fz"
      },
      "source": [
        "1.\tWrite a Python program which accept the radius of a circle from the user and compute the area."
      ]
    },
    {
      "cell_type": "code",
      "execution_count": null,
      "metadata": {
        "colab": {
          "base_uri": "https://localhost:8080/"
        },
        "id": "iQft2UmY7_Sx",
        "outputId": "efa1468c-3f67-40e9-f78b-920df791ad85"
      },
      "outputs": [
        {
          "name": "stdout",
          "output_type": "stream",
          "text": [
            "enter a redius(in cm)=23\n",
            "area of a circle= 1661.06\n"
          ]
        }
      ],
      "source": [
        "r = (float (input(\"enter a redius(in cm)=\")))\n",
        "area=3.14 * r * r\n",
        "print(\"area of a circle=\",area)"
      ]
    },
    {
      "cell_type": "markdown",
      "metadata": {
        "id": "WMEeVNE8gUPw"
      },
      "source": [
        "2.\tWrite a Python program to calculate number of days between two dates."
      ]
    },
    {
      "cell_type": "code",
      "execution_count": null,
      "metadata": {
        "colab": {
          "base_uri": "https://localhost:8080/"
        },
        "id": "hCKVBp4jgbnB",
        "outputId": "61c0c4e2-1c44-4ad6-eb08-9d3369db4f95"
      },
      "outputs": [
        {
          "name": "stdout",
          "output_type": "stream",
          "text": [
            "8\n"
          ]
        }
      ],
      "source": [
        "from datetime import date\n",
        "frist_date = date(2022, 7, 3)\n",
        "last_date = date(2022, 7, 11)\n",
        "no_of_days= last_date - frist_date\n",
        "print(no_of_days.days)"
      ]
    },
    {
      "cell_type": "markdown",
      "metadata": {
        "id": "TGOqKvjHjhqa"
      },
      "source": [
        "3.\tWrite a Python program to test whether a passed letter is a vowel or not."
      ]
    },
    {
      "cell_type": "code",
      "execution_count": null,
      "metadata": {
        "colab": {
          "base_uri": "https://localhost:8080/"
        },
        "id": "ylU9rURyntRg",
        "outputId": "22da3913-72f3-4990-9ee2-f42a5a7e31dc"
      },
      "outputs": [
        {
          "name": "stdout",
          "output_type": "stream",
          "text": [
            "Enter the character: R\n",
            "different\n"
          ]
        }
      ],
      "source": [
        "l = input(\"Enter the character: \")\n",
        "\n",
        "if l.lower() in ('a', 'e', 'i', 'o', 'u'):\n",
        "  print(\"Vowel\")\n",
        "\n",
        "elif l.upper() in ('A', 'E', 'I', 'O', 'U'):\n",
        "  print(\"Vowel\")\n",
        "\n",
        "else:\n",
        "  print(\"different\")\n",
        "\n"
      ]
    },
    {
      "cell_type": "markdown",
      "metadata": {
        "id": "pdXAOj6SoIRA"
      },
      "source": [
        "4.\tWrite a program to print every character of a string entered by the user in a new line using a loop."
      ]
    },
    {
      "cell_type": "code",
      "execution_count": null,
      "metadata": {
        "colab": {
          "base_uri": "https://localhost:8080/"
        },
        "id": "Z8oWOb42pRXQ",
        "outputId": "cc84a141-511a-4734-d69c-90a2397c8801"
      },
      "outputs": [
        {
          "name": "stdout",
          "output_type": "stream",
          "text": [
            "Enter a word: omkAR\n",
            "o\n",
            "m\n",
            "k\n",
            "A\n",
            "R\n"
          ]
        }
      ],
      "source": [
        "word = input(\"Enter a word: \")\n",
        "for letter in word:\n",
        "    print(letter)\n"
      ]
    },
    {
      "cell_type": "markdown",
      "metadata": {
        "id": "bNiA1Lj5pgMU"
      },
      "source": [
        "5.\tPython program to check whether a number is Prime or not."
      ]
    },
    {
      "cell_type": "code",
      "execution_count": null,
      "metadata": {
        "colab": {
          "base_uri": "https://localhost:8080/"
        },
        "id": "tZYTC9nIpmTk",
        "outputId": "d2366ee0-dd6a-4dba-add2-f9df6b327aa8"
      },
      "outputs": [
        {
          "name": "stdout",
          "output_type": "stream",
          "text": [
            "Enter a number: 54\n",
            "54 is not a prime number\n"
          ]
        }
      ],
      "source": [
        "num = int(input(\"Enter a number: \"))\n",
        "\n",
        "flag = False\n",
        "\n",
        "if num > 1:\n",
        "    for i in range(2, num):\n",
        "        if (num % i) == 0:\n",
        "            flag = True\n",
        "            break\n",
        "\n",
        "if flag:\n",
        "    print(num, \"is not a prime number\")\n",
        "else:\n",
        "    print(num, \"is a prime number\")"
      ]
    },
    {
      "cell_type": "markdown",
      "metadata": {
        "id": "8-qt5G0vql7K"
      },
      "source": [
        "6.\tPython program to Count Even and Odd numbers in a string."
      ]
    },
    {
      "cell_type": "code",
      "execution_count": null,
      "metadata": {
        "colab": {
          "base_uri": "https://localhost:8080/"
        },
        "id": "zsMAvGWeqp7G",
        "outputId": "918f7ee6-dc34-4576-fa0b-acf9de634b9f"
      },
      "outputs": [
        {
          "output_type": "stream",
          "name": "stdout",
          "text": [
            "Enter a no: 416\n",
            "416is even no\n"
          ]
        }
      ],
      "source": [
        "num = int(input(\"Enter a no: \"))\n",
        "if (num % 2) == 0:\n",
        " print(f\"{num}is even no\")\n",
        "else:\n",
        " print(f\"{num}is odd no\")"
      ]
    },
    {
      "cell_type": "markdown",
      "source": [
        "7.\tWrite a Python program to find the second most repeated word in a given string."
      ],
      "metadata": {
        "id": "tSJhT3oXODY8"
      }
    },
    {
      "cell_type": "markdown",
      "source": [
        "8.\tPython program to interchange first and last elements in a list."
      ],
      "metadata": {
        "id": "9drn5HmlOZo4"
      }
    },
    {
      "cell_type": "code",
      "source": [
        "newlist = [1,2,3,4,5,6,7,8]\n",
        "size = len(newlist) \n",
        "temp = newlist[0]\n",
        "newlist[0] = newlist[size - 1]\n",
        "newlist[size - 1] = temp\n",
        "print(newlist)\n",
        "     "
      ],
      "metadata": {
        "colab": {
          "base_uri": "https://localhost:8080/"
        },
        "id": "5iS5qfdfOpr1",
        "outputId": "4b4c5118-9bf3-40ec-a412-7a829789d5a1"
      },
      "execution_count": null,
      "outputs": [
        {
          "output_type": "stream",
          "name": "stdout",
          "text": [
            "[8, 2, 3, 4, 5, 6, 7, 1]\n"
          ]
        }
      ]
    },
    {
      "cell_type": "markdown",
      "source": [
        "9.\tHow to sort a list in ascending and descending order without using the sort function?"
      ],
      "metadata": {
        "id": "AdrTRKCaQAxO"
      }
    },
    {
      "cell_type": "code",
      "source": [
        "my_list = [-15, -26, 15, 1, 23, -64, 23, 76]\n",
        "new_list = []\n",
        "\n",
        "while my_list:\n",
        "    min = my_list[0]  \n",
        "    for x in my_list: \n",
        "       if x < min:\n",
        "            min = x\n",
        "    new_list.append(min)\n",
        "    my_list.remove(min)    \n",
        "\n",
        "print(new_list)"
      ],
      "metadata": {
        "colab": {
          "base_uri": "https://localhost:8080/"
        },
        "id": "KRHFibzRQGYq",
        "outputId": "140b260d-c5f1-402a-e715-4d2ea478fd43"
      },
      "execution_count": null,
      "outputs": [
        {
          "output_type": "stream",
          "name": "stdout",
          "text": [
            "[-64, -26, -15, 1, 15, 23, 23, 76]\n"
          ]
        }
      ]
    },
    {
      "cell_type": "markdown",
      "source": [
        "10.\tPython program to sort Python Dictionaries by Values"
      ],
      "metadata": {
        "id": "sdeJRALMTNvm"
      }
    },
    {
      "cell_type": "code",
      "source": [
        "dt = {5:4, 1:6, 6:3}\n",
        "\n",
        "sorted_dt = {key: value for key, value in sorted(dt.items(), key=lambda item: item[1])}\n",
        "\n",
        "print(sorted_dt)"
      ],
      "metadata": {
        "colab": {
          "base_uri": "https://localhost:8080/"
        },
        "id": "l-40_0FwTSgQ",
        "outputId": "3d4c8f8f-3210-475b-a6fc-034f19c655a1"
      },
      "execution_count": null,
      "outputs": [
        {
          "output_type": "stream",
          "name": "stdout",
          "text": [
            "{6: 3, 5: 4, 1: 6}\n"
          ]
        }
      ]
    },
    {
      "cell_type": "markdown",
      "source": [
        "11.\tCreate a list of tuples from the given list having a number and its cube in each tuple."
      ],
      "metadata": {
        "id": "5wqseSgDWHXE"
      }
    },
    {
      "cell_type": "code",
      "source": [
        "list1 = [1, 2, 5, 6]\n",
        " \n",
        "res = [(val, pow(val, 3)) for val in list1]\n",
        " \n",
        "\n",
        "print(res)"
      ],
      "metadata": {
        "colab": {
          "base_uri": "https://localhost:8080/"
        },
        "id": "EQoR3T1UWNeD",
        "outputId": "f35529af-f0e1-428d-b481-b5a669d28ad5"
      },
      "execution_count": null,
      "outputs": [
        {
          "output_type": "stream",
          "name": "stdout",
          "text": [
            "[(1, 1), (2, 8), (5, 125), (6, 216)]\n"
          ]
        }
      ]
    },
    {
      "cell_type": "markdown",
      "source": [
        "12.\tHow to extract all numbers between a given range from a NumPy array?"
      ],
      "metadata": {
        "id": "L2W704b8YMlE"
      }
    },
    {
      "cell_type": "code",
      "source": [
        "import numpy as np\n",
        "\n",
        "\n",
        "numpy_array = np.array([2, 3, 6, 9, 11, 23, 34, 66])\n",
        "\n",
        "\n",
        "indices = np.where((numpy_array >= 7) & (numpy_array < 11))\n",
        "print(\"Indices: \", indices)\n",
        "print(\"Elements satisfied the condition: \",numpy_array[indices])"
      ],
      "metadata": {
        "colab": {
          "base_uri": "https://localhost:8080/"
        },
        "id": "nNBpK_1oYNyQ",
        "outputId": "c97c1894-f317-41de-f504-7a0b656a46a2"
      },
      "execution_count": null,
      "outputs": [
        {
          "output_type": "stream",
          "name": "stdout",
          "text": [
            "Indices:  (array([3]),)\n",
            "Elements satisfied the condition:  [9]\n"
          ]
        }
      ]
    },
    {
      "cell_type": "markdown",
      "source": [
        "13.\tHow to convert 4D array to 2D array?"
      ],
      "metadata": {
        "id": "k4OlwvoSbQ0L"
      }
    },
    {
      "cell_type": "markdown",
      "source": [
        "17.\tWrite a program in Python to find prime factors of a given integer"
      ],
      "metadata": {
        "id": "6AH3_KC6bme6"
      }
    },
    {
      "cell_type": "code",
      "source": [
        "n=int(input(\"Enter an integer:\"))\n",
        "print(\"Factors are:\")\n",
        "i=1\n",
        "while(i<=n):\n",
        "    k=0\n",
        "    if(n%i==0):\n",
        "        j=1\n",
        "        while(j<=i):\n",
        "            if(i%j==0):\n",
        "                k=k+1\n",
        "            j=j+1\n",
        "        if(k==2):"
      ],
      "metadata": {
        "colab": {
          "base_uri": "https://localhost:8080/",
          "height": 131
        },
        "id": "GoXMpZpTfarH",
        "outputId": "bca160a9-8567-4336-d907-e82e41ad8534"
      },
      "execution_count": null,
      "outputs": [
        {
          "output_type": "error",
          "ename": "SyntaxError",
          "evalue": "ignored",
          "traceback": [
            "\u001b[0;36m  File \u001b[0;32m\"<ipython-input-16-252565b3c2a6>\"\u001b[0;36m, line \u001b[0;32m12\u001b[0m\n\u001b[0;31m    if(k==2):\u001b[0m\n\u001b[0m             ^\u001b[0m\n\u001b[0;31mSyntaxError\u001b[0m\u001b[0;31m:\u001b[0m unexpected EOF while parsing\n"
          ]
        }
      ]
    },
    {
      "cell_type": "markdown",
      "source": [
        "18.\tPython Program to count the occurrence of each character in string."
      ],
      "metadata": {
        "id": "DVvIfAyOk6Xs"
      }
    },
    {
      "cell_type": "code",
      "source": [
        "input_string = \"hello this is python program \"\n",
        "print(\"The input string is:\", input_string)\n",
        "mySet = set(input_string)\n",
        "for element in mySet:\n",
        "    countOfChar = 0\n",
        "    for character in input_string:\n",
        "        if character == element:\n",
        "            countOfChar += 1\n",
        "    print(\"Count of character '{}' is {}\".format(element, countOfChar))"
      ],
      "metadata": {
        "colab": {
          "base_uri": "https://localhost:8080/"
        },
        "id": "xB7LsXntk7UX",
        "outputId": "fe6e5456-b28c-4884-fcf8-591d03e000bd"
      },
      "execution_count": null,
      "outputs": [
        {
          "output_type": "stream",
          "name": "stdout",
          "text": [
            "The input string is: hello this is python program\n",
            "Count of character 'h' is 3\n",
            "Count of character 'l' is 2\n",
            "Count of character 'm' is 1\n",
            "Count of character 'i' is 2\n",
            "Count of character 'n' is 1\n",
            "Count of character 'a' is 1\n",
            "Count of character 'o' is 3\n",
            "Count of character 'e' is 1\n",
            "Count of character 'p' is 2\n",
            "Count of character 'y' is 1\n",
            "Count of character ' ' is 4\n",
            "Count of character 'r' is 2\n",
            "Count of character 'g' is 1\n",
            "Count of character 't' is 2\n",
            "Count of character 's' is 2\n"
          ]
        }
      ]
    },
    {
      "cell_type": "markdown",
      "source": [
        "14)"
      ],
      "metadata": {
        "id": "OaUDTVjepaRg"
      }
    },
    {
      "cell_type": "code",
      "source": [
        "chairs = range(1,100)\n",
        "print(list(chairs))"
      ],
      "metadata": {
        "colab": {
          "base_uri": "https://localhost:8080/"
        },
        "id": "y2KFObPjpcyf",
        "outputId": "c93a588f-c27d-4104-b23f-398470b341a5"
      },
      "execution_count": null,
      "outputs": [
        {
          "output_type": "stream",
          "name": "stdout",
          "text": [
            "[1, 2, 3, 4, 5, 6, 7, 8, 9, 10, 11, 12, 13, 14, 15, 16, 17, 18, 19, 20, 21, 22, 23, 24, 25, 26, 27, 28, 29, 30, 31, 32, 33, 34, 35, 36, 37, 38, 39, 40, 41, 42, 43, 44, 45, 46, 47, 48, 49, 50, 51, 52, 53, 54, 55, 56, 57, 58, 59, 60, 61, 62, 63, 64, 65, 66, 67, 68, 69, 70, 71, 72, 73, 74, 75, 76, 77, 78, 79, 80, 81, 82, 83, 84, 85, 86, 87, 88, 89, 90, 91, 92, 93, 94, 95, 96, 97, 98, 99]\n"
          ]
        }
      ]
    },
    {
      "cell_type": "code",
      "source": [],
      "metadata": {
        "id": "l1qQVgiGp3pz"
      },
      "execution_count": null,
      "outputs": []
    }
  ],
  "metadata": {
    "colab": {
      "provenance": [],
      "authorship_tag": "ABX9TyOMw/aGN1zNOziI65pH2GFM",
      "include_colab_link": true
    },
    "kernelspec": {
      "display_name": "Python 3",
      "name": "python3"
    },
    "language_info": {
      "name": "python"
    }
  },
  "nbformat": 4,
  "nbformat_minor": 0
}