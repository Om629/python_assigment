{
  "nbformat": 4,
  "nbformat_minor": 0,
  "metadata": {
    "colab": {
      "provenance": [],
      "authorship_tag": "ABX9TyMQ5gL1tgImqrwGg2CyNZUL",
      "include_colab_link": true
    },
    "kernelspec": {
      "name": "python3",
      "display_name": "Python 3"
    },
    "language_info": {
      "name": "python"
    }
  },
  "cells": [
    {
      "cell_type": "markdown",
      "metadata": {
        "id": "view-in-github",
        "colab_type": "text"
      },
      "source": [
        "<a href=\"https://colab.research.google.com/github/Om629/python_assigment/blob/main/python_assignment.ipynb\" target=\"_parent\"><img src=\"https://colab.research.google.com/assets/colab-badge.svg\" alt=\"Open In Colab\"/></a>"
      ]
    },
    {
      "cell_type": "markdown",
      "source": [
        "1. Write a Python program which accepts a sequence of comma-separated numbers from user and generate a list and a tuple with those numbers."
      ],
      "metadata": {
        "id": "PbkmVHQlSwcU"
      }
    },
    {
      "cell_type": "code",
      "execution_count": null,
      "metadata": {
        "colab": {
          "base_uri": "https://localhost:8080/"
        },
        "id": "dYUIEeUxSzoe",
        "outputId": "40caae62-b4fa-4b77-e29d-3379162d7e70"
      },
      "outputs": [
        {
          "output_type": "stream",
          "name": "stdout",
          "text": [
            "Enter a sequence of comma-separated numbers: 3,4,6,7,25,\n",
            "List: ['3', '4', '6', '7', '25', '']\n",
            "Tuple: ('3', '4', '6', '7', '25', '')\n"
          ]
        }
      ],
      "source": [
        "user_input = input(\"Enter a sequence of comma-separated numbers: \")\n",
        "\n",
        "# Split the user's input by commas\n",
        "numbers = user_input.split(\",\")\n",
        "\n",
        "# Create a list from the numbers\n",
        "numbers_list = list(numbers)\n",
        "\n",
        "# Create a tuple from the numbers\n",
        "numbers_tuple = tuple(numbers)\n",
        "\n",
        "# Print the list and tuple\n",
        "print(\"List:\", numbers_list)\n",
        "print(\"Tuple:\", numbers_tuple)\n"
      ]
    },
    {
      "cell_type": "markdown",
      "source": [
        "2. Write a Python program to display the first and last colors from the following list."
      ],
      "metadata": {
        "id": "RnTRJizTTzoq"
      }
    },
    {
      "cell_type": "code",
      "execution_count": null,
      "metadata": {
        "id": "SEVDT68YSnPB",
        "colab": {
          "base_uri": "https://localhost:8080/"
        },
        "outputId": "00336132-ec50-4e0b-c036-c630fcf01a88"
      },
      "outputs": [
        {
          "output_type": "stream",
          "name": "stdout",
          "text": [
            "First color: Red\n",
            "Last color: Black\n"
          ]
        }
      ],
      "source": [
        "color_list = [\"Red\", \"Green\", \"White\", \"Black\"]\n",
        "\n",
        "# Print the first color\n",
        "print(\"First color:\", color_list[0])\n",
        "\n",
        "# Print the last color\n",
        "print(\"Last color:\", color_list[-1])\n"
      ]
    },
    {
      "cell_type": "markdown",
      "source": [
        "3. Write a Python program to print the even numbers from a given list.\n"
      ],
      "metadata": {
        "id": "zMvn32bZUOon"
      }
    },
    {
      "cell_type": "code",
      "source": [
        "numbers = [1, 2, 3, 4, 5, 6, 7, 8, 9]\n",
        "\n",
        "# Create a new list to store the even numbers\n",
        "even_numbers = []\n",
        "\n",
        "# Iterate over the numbers in the original list\n",
        "for number in numbers:\n",
        "    # Check if the number is even\n",
        "    if number % 2 == 0:\n",
        "        # Add the even number to the new list\n",
        "        even_numbers.append(number)\n",
        "\n",
        "# Print the even numbers\n",
        "print(\"Even numbers:\", even_numbers)\n"
      ],
      "metadata": {
        "colab": {
          "base_uri": "https://localhost:8080/"
        },
        "id": "mnuVo68ZU0rG",
        "outputId": "c860750d-0968-40f3-9d6b-6e4b8e4176bb"
      },
      "execution_count": null,
      "outputs": [
        {
          "output_type": "stream",
          "name": "stdout",
          "text": [
            "Even numbers: [2, 4, 6, 8]\n"
          ]
        }
      ]
    },
    {
      "cell_type": "markdown",
      "source": [
        " Write a Python program to calculate number of days between two dates. Hint: use Datetime package/module."
      ],
      "metadata": {
        "id": "HqXgUgL9U-GW"
      }
    },
    {
      "cell_type": "code",
      "source": [
        "from datetime import date\n",
        "\n",
        "# Define the two dates\n",
        "date1 = date(2014, 7, 2)\n",
        "date2 = date(2014, 7, 11)\n",
        "\n",
        "# Calculate the number of days between the two dates\n",
        "delta = date2 - date1\n",
        "\n",
        "# Print the number of days\n",
        "print(\"Number of days between\", date1, \"and\", date2, \":\", delta.days)\n"
      ],
      "metadata": {
        "colab": {
          "base_uri": "https://localhost:8080/"
        },
        "id": "w7939Vh5VARV",
        "outputId": "6a656bdf-ccfa-40ea-965f-bc78081cc0fc"
      },
      "execution_count": null,
      "outputs": [
        {
          "output_type": "stream",
          "name": "stdout",
          "text": [
            "Number of days between 2014-07-02 and 2014-07-11 : 9\n"
          ]
        }
      ]
    },
    {
      "cell_type": "markdown",
      "source": [
        " Write a Python program to get the volume of a sphere with radius 6."
      ],
      "metadata": {
        "id": "qLy9XwHYVme7"
      }
    },
    {
      "cell_type": "code",
      "source": [
        "import math\n",
        "\n",
        "# Define the radius of the sphere\n",
        "radius = 6\n",
        "\n",
        "# Calculate the volume of the sphere\n",
        "volume = (4/3) * math.pi * radius ** 3\n",
        "\n",
        "# Print the volume of the sphere\n",
        "print(\"The volume of the sphere with radius\", radius, \"is:\", volume)\n"
      ],
      "metadata": {
        "colab": {
          "base_uri": "https://localhost:8080/"
        },
        "id": "Jw_7-h1VVnl7",
        "outputId": "bb9ee71f-bc5b-4b0a-8161-8a215e2c5e3d"
      },
      "execution_count": null,
      "outputs": [
        {
          "output_type": "stream",
          "name": "stdout",
          "text": [
            "The volume of the sphere with radius 6 is: 904.7786842338603\n"
          ]
        }
      ]
    },
    {
      "cell_type": "markdown",
      "source": [
        "Write a Python program to calculate the sum of three given numbers, if the values are equal then return three times of their sum hint: write User defined functions"
      ],
      "metadata": {
        "id": "5T0895-oV8aC"
      }
    },
    {
      "cell_type": "code",
      "source": [
        "def sum_or_triple(num1, num2, num3):\n",
        "    # Check if the numbers are equal\n",
        "    if num1 == num2 == num3:\n",
        "        # Return three times their sum\n",
        "        return 3 * (num1 + num2 + num3)\n",
        "    else:\n",
        "        # Return their sum\n",
        "        return num1 + num2 + num3\n",
        "\n",
        "# Test the function\n",
        "print(sum_or_triple(2, 2, 2)) # Output: 18 (3 * (2 + 2 + 2) = 18)\n",
        "print(sum_or_triple(1, 2, 3)) # Output: 6 (1 + 2 + 3 = 6)\n"
      ],
      "metadata": {
        "colab": {
          "base_uri": "https://localhost:8080/"
        },
        "id": "tCjf7Ex5WAfa",
        "outputId": "131599c9-7c8c-4ca0-f510-95f34f29db9c"
      },
      "execution_count": null,
      "outputs": [
        {
          "output_type": "stream",
          "name": "stdout",
          "text": [
            "18\n",
            "6\n"
          ]
        }
      ]
    },
    {
      "cell_type": "markdown",
      "source": [
        "Write a Python program to count the number 4 in a given list."
      ],
      "metadata": {
        "id": "RB6IVxEKWE_Z"
      }
    },
    {
      "cell_type": "code",
      "source": [
        "my_list = [1, 4, 6, 8, 4, 9, 4]\n",
        "\n",
        "# Define a counter variable to keep track of the number of 4's\n",
        "count = 0\n",
        "\n",
        "# Iterate over the elements in the list\n",
        "for element in my_list:\n",
        "    # Check if the element is equal to 4\n",
        "    if element == 4:\n",
        "        # If it is, increment the counter\n",
        "        count += 1\n",
        "\n",
        "# Print the number of 4's in the list\n",
        "print(\"The number of 4's in the list is:\", count)\n"
      ],
      "metadata": {
        "colab": {
          "base_uri": "https://localhost:8080/"
        },
        "id": "RQ50Pf0nWFob",
        "outputId": "ee4adbf0-c584-4142-aff6-11c85f847c0c"
      },
      "execution_count": null,
      "outputs": [
        {
          "output_type": "stream",
          "name": "stdout",
          "text": [
            "The number of 4's in the list is: 3\n"
          ]
        }
      ]
    },
    {
      "cell_type": "markdown",
      "source": [
        "Write a Python program to print all even numbers from a given numbers list in the same order and stop the printing if any numbers that come after 237 in the sequence. Go to the editorSample numbers list :\n",
        "\n",
        "399, 162, 758, 219, 918, 237, 412, 566, 826, 248, 866, 950, 626, 949, 687, 217,\n",
        "\n",
        "815, 67, 104, 58, 512, 24, 892, 894, 767, 553, 81, 379, 843, 831, 445, 742, 717,\n",
        "\n",
        "958,743, 527]"
      ],
      "metadata": {
        "id": "jZPK2Dj0WPEx"
      }
    },
    {
      "cell_type": "code",
      "source": [
        "numbers = [399, 162, 758, 219, 918, 237, 412, 566, 826, 248, 866, 950, 626, 949, 687, 217,\n",
        "           815, 67, 104, 58, 512, 24, 892, 894, 767, 553, 81, 379, 843, 831, 445, 742, 717,\n",
        "           958, 743, 527]\n",
        "\n",
        "# Iterate over the numbers in the list\n",
        "for num in numbers:\n",
        "    # Check if the number is even\n",
        "    if num % 2 == 0:\n",
        "        # If it is, print it\n",
        "        print(num)\n",
        "    # Check if the number is 237\n",
        "    elif num == 237:\n",
        "        # If it is, stop printing and exit the loop\n",
        "        break\n"
      ],
      "metadata": {
        "colab": {
          "base_uri": "https://localhost:8080/"
        },
        "id": "byGEJ5cQWTSZ",
        "outputId": "f001e8a6-60f9-4f38-c0c4-f1994e5840ef"
      },
      "execution_count": null,
      "outputs": [
        {
          "output_type": "stream",
          "name": "stdout",
          "text": [
            "162\n",
            "758\n",
            "918\n"
          ]
        }
      ]
    },
    {
      "cell_type": "markdown",
      "source": [
        " Write a Python program to find those numbers which are divisible by 7 and multiple of 5, between 1500 and 2700 (both included)"
      ],
      "metadata": {
        "id": "2FuIy2y3W213"
      }
    },
    {
      "cell_type": "code",
      "source": [
        "# Iterate over the numbers between 1500 and 2700 (both included)\n",
        "for num in range(1500, 2701):\n",
        "    # Check if the number is divisible by 7 and a multiple of 5\n",
        "    if num % 7 == 0 and num % 5 == 0:\n",
        "        # If it is, print it\n",
        "        print(num)\n"
      ],
      "metadata": {
        "colab": {
          "base_uri": "https://localhost:8080/"
        },
        "id": "9AE5gIEXW5Rn",
        "outputId": "3a8b0db8-0930-43df-ea49-f80b5cb6117b"
      },
      "execution_count": null,
      "outputs": [
        {
          "output_type": "stream",
          "name": "stdout",
          "text": [
            "1505\n",
            "1540\n",
            "1575\n",
            "1610\n",
            "1645\n",
            "1680\n",
            "1715\n",
            "1750\n",
            "1785\n",
            "1820\n",
            "1855\n",
            "1890\n",
            "1925\n",
            "1960\n",
            "1995\n",
            "2030\n",
            "2065\n",
            "2100\n",
            "2135\n",
            "2170\n",
            "2205\n",
            "2240\n",
            "2275\n",
            "2310\n",
            "2345\n",
            "2380\n",
            "2415\n",
            "2450\n",
            "2485\n",
            "2520\n",
            "2555\n",
            "2590\n",
            "2625\n",
            "2660\n",
            "2695\n"
          ]
        }
      ]
    },
    {
      "cell_type": "markdown",
      "source": [
        "Write a Python program that prints all the numbers from 0 to 6 except 3 and 6."
      ],
      "metadata": {
        "id": "pDT93ZbmiQmM"
      }
    },
    {
      "cell_type": "code",
      "source": [
        "# Iterate over the numbers from 0 to 6\n",
        "for num in range(7):\n",
        "    # Skip the numbers 3 and 6 using the continue statement\n",
        "    if num == 3 or num == 6:\n",
        "        continue\n",
        "    # Print the other numbers\n",
        "    print(num, end=' ')\n"
      ],
      "metadata": {
        "colab": {
          "base_uri": "https://localhost:8080/"
        },
        "id": "tprPmPY0iRbK",
        "outputId": "bed84307-1e56-4965-f073-3fac12ccc820"
      },
      "execution_count": null,
      "outputs": [
        {
          "output_type": "stream",
          "name": "stdout",
          "text": [
            "0 1 2 4 5 "
          ]
        }
      ]
    },
    {
      "cell_type": "markdown",
      "source": [
        "Write a Python program to get the Fibonacci series between 0 to 50."
      ],
      "metadata": {
        "id": "tg7LvbJtij1Z"
      }
    },
    {
      "cell_type": "code",
      "source": [
        "# Initialize the first two numbers in the sequence\n",
        "num1, num2 = 0, 1\n",
        "\n",
        "# Iterate over the sequence\n",
        "while num1 < 50:\n",
        "    # Print the current number in the sequence\n",
        "    print(num1, end=' ')\n",
        "    # Update the numbers in the sequence\n",
        "    num1, num2 = num2, num1 + num2\n"
      ],
      "metadata": {
        "colab": {
          "base_uri": "https://localhost:8080/"
        },
        "id": "-kh9V-_MikqR",
        "outputId": "55a65a18-75c0-410f-82cb-a7c9deef7abe"
      },
      "execution_count": null,
      "outputs": [
        {
          "output_type": "stream",
          "name": "stdout",
          "text": [
            "0 1 1 2 3 5 8 13 21 34 "
          ]
        }
      ]
    },
    {
      "cell_type": "markdown",
      "source": [
        "Write a Python program to get the Fibonacci series between 0 to 50."
      ],
      "metadata": {
        "id": "aAE_hCAnio3h"
      }
    },
    {
      "cell_type": "code",
      "source": [
        "# Initialize the first two numbers in the sequence\n",
        "num1, num2 = 0, 1\n",
        "\n",
        "# Iterate over the sequence\n",
        "while num2 < 50:\n",
        "    # Print the current number in the sequence\n",
        "    print(num2, end=' ')\n",
        "    # Update the numbers in the sequence\n",
        "    num1, num2 = num2, num1 + num2\n"
      ],
      "metadata": {
        "colab": {
          "base_uri": "https://localhost:8080/"
        },
        "id": "f9MIp61xixvB",
        "outputId": "59a62d52-8b0d-46d3-8e9b-c2dbd7de6c5f"
      },
      "execution_count": null,
      "outputs": [
        {
          "output_type": "stream",
          "name": "stdout",
          "text": [
            "1 1 2 3 5 8 13 21 34 "
          ]
        }
      ]
    },
    {
      "cell_type": "markdown",
      "source": [
        "Write a Python function that takes a list and returns a new list with unique elements of the first list."
      ],
      "metadata": {
        "id": "QNZ4Cdx3i8tA"
      }
    },
    {
      "cell_type": "code",
      "source": [
        "def unique_list(lst):\n",
        "    \"\"\"\n",
        "    Returns a new list with unique elements of the input list.\n",
        "    \"\"\"\n",
        "    # Initialize an empty list to store the unique elements\n",
        "    unique_lst = []\n",
        "    \n",
        "    # Iterate over the elements of the input list\n",
        "    for item in lst:\n",
        "        # Check if the current element is not already in the unique list\n",
        "        if item not in unique_lst:\n",
        "            # Add the element to the unique list\n",
        "            unique_lst.append(item)\n",
        "    \n",
        "    return unique_lst\n"
      ],
      "metadata": {
        "id": "opYF3zLfi95w"
      },
      "execution_count": null,
      "outputs": []
    },
    {
      "cell_type": "markdown",
      "source": [
        "Write a Python program to concatenate all elements in a list into a string and return it."
      ],
      "metadata": {
        "id": "gp4T62fvjHZQ"
      }
    },
    {
      "cell_type": "code",
      "source": [
        "my_list = ['Hello', 'world', '!', 'How', 'are', 'you', 'doing', 'today', '?']\n",
        "my_string = ''.join(my_list)\n",
        "print(my_string)\n"
      ],
      "metadata": {
        "colab": {
          "base_uri": "https://localhost:8080/"
        },
        "id": "W22tSO0ujKcX",
        "outputId": "844b0fd3-0c76-4147-f79e-8d29f27a3a6c"
      },
      "execution_count": null,
      "outputs": [
        {
          "output_type": "stream",
          "name": "stdout",
          "text": [
            "Helloworld!Howareyoudoingtoday?\n"
          ]
        }
      ]
    },
    {
      "cell_type": "markdown",
      "source": [
        " Write a Python script to concatenate following dictionaries to create a new one."
      ],
      "metadata": {
        "id": "smSRWbzGjWfX"
      }
    },
    {
      "cell_type": "code",
      "source": [
        "dic1 = {1:10, 2:20}\n",
        "dic2 = {3:30, 4:40}\n",
        "dic3 = {5:50, 6:60}\n",
        "\n",
        "new_dict = {}\n",
        "new_dict.update(dic1)\n",
        "new_dict.update(dic2)\n",
        "new_dict.update(dic3)\n",
        "\n",
        "print(new_dict)\n"
      ],
      "metadata": {
        "colab": {
          "base_uri": "https://localhost:8080/"
        },
        "id": "tbWz2yZ9jXa_",
        "outputId": "a171293d-0471-4282-bc6b-a5de7c382248"
      },
      "execution_count": null,
      "outputs": [
        {
          "output_type": "stream",
          "name": "stdout",
          "text": [
            "{1: 10, 2: 20, 3: 30, 4: 40, 5: 50, 6: 60}\n"
          ]
        }
      ]
    },
    {
      "cell_type": "markdown",
      "source": [
        "Write a Python program to add, subtract, multiple and divide two Pandas Series."
      ],
      "metadata": {
        "id": "z-eU3XbjjmlN"
      }
    },
    {
      "cell_type": "code",
      "source": [
        "import pandas as pd\n",
        "\n",
        "# Create two series\n",
        "s1 = pd.Series([2, 4, 6, 8, 10])\n",
        "s2 = pd.Series([1, 3, 5, 7, 9])\n",
        "\n",
        "# Add the two series\n",
        "s3 = s1 + s2\n",
        "print(\"Addition:\")\n",
        "print(s3)\n",
        "\n",
        "# Subtract the two series\n",
        "s3 = s1 - s2\n",
        "print(\"Subtraction:\")\n",
        "print(s3)\n",
        "\n",
        "# Multiply the two series\n",
        "s3 = s1 * s2\n",
        "print(\"Multiplication:\")\n",
        "print(s3)\n",
        "\n",
        "# Divide the two series\n",
        "s3 = s1 / s2\n",
        "print(\"Division:\")\n",
        "print(s3)\n"
      ],
      "metadata": {
        "colab": {
          "base_uri": "https://localhost:8080/"
        },
        "id": "IGcWMTEUjnWF",
        "outputId": "c92e0a14-3ac3-49ad-aa9a-b05062b12b58"
      },
      "execution_count": null,
      "outputs": [
        {
          "output_type": "stream",
          "name": "stdout",
          "text": [
            "Addition:\n",
            "0     3\n",
            "1     7\n",
            "2    11\n",
            "3    15\n",
            "4    19\n",
            "dtype: int64\n",
            "Subtraction:\n",
            "0    1\n",
            "1    1\n",
            "2    1\n",
            "3    1\n",
            "4    1\n",
            "dtype: int64\n",
            "Multiplication:\n",
            "0     2\n",
            "1    12\n",
            "2    30\n",
            "3    56\n",
            "4    90\n",
            "dtype: int64\n",
            "Division:\n",
            "0    2.000000\n",
            "1    1.333333\n",
            "2    1.200000\n",
            "3    1.142857\n",
            "4    1.111111\n",
            "dtype: float64\n"
          ]
        }
      ]
    },
    {
      "cell_type": "markdown",
      "source": [
        "Write a Pandas program to select the specified columns and rows from a given data frame. Go to the editorSample Python dictionary data and list labels:\n",
        "\n",
        "Select 'name' and 'score' columns in rows 1, 3, 5, 6 from the following data frame.\n",
        "\n",
        "exam_data = {'name': ['Anastasia', 'Dima', 'Katherine', 'James', 'Emily', 'Michael', 'Matthew', 'Laura', 'Kevin', 'Jonas'],\n",
        "\n",
        "score': [12.5, 9, 16.5, np.nan, 9, 20, 14.5, np.nan, 8, 19],\n",
        "\n",
        "attempts': [1, 3, 2, 3, 2, 3, 1, 1, 2, 1],\n",
        "\n",
        "qualify': ['yes', 'no', 'yes', 'no', 'no', 'yes', 'yes', 'no', 'no', 'yes']}\n",
        "\n",
        "labels = ['a', 'b', 'c', 'd', 'e', 'f', 'g', 'h', 'i', 'j']\n"
      ],
      "metadata": {
        "id": "alRVcCR9j5Dd"
      }
    },
    {
      "cell_type": "code",
      "source": [
        "import pandas as pd\n",
        "import numpy as np\n",
        "\n",
        "# Define the data frame\n",
        "exam_data = {\n",
        "    'name': ['Anastasia', 'Dima', 'Katherine', 'James', 'Emily', 'Michael', 'Matthew', 'Laura', 'Kevin', 'Jonas'],\n",
        "    'score': [12.5, 9, 16.5, np.nan, 9, 20, 14.5, np.nan, 8, 19],\n",
        "    'attempts': [1, 3, 2, 3, 2, 3, 1, 1, 2, 1],\n",
        "    'qualify': ['yes', 'no', 'yes', 'no', 'no', 'yes', 'yes', 'no', 'no', 'yes']\n",
        "}\n",
        "\n",
        "df = pd.DataFrame(exam_data)\n",
        "\n",
        "# Select the specified columns and rows\n",
        "selected_df = df.loc[[1, 3, 5, 6], ['name', 'score']]\n",
        "\n",
        "print(selected_df)\n"
      ],
      "metadata": {
        "colab": {
          "base_uri": "https://localhost:8080/"
        },
        "id": "4n-RYFnfkBgk",
        "outputId": "3be3edef-e585-43e0-8a74-6a35aa082657"
      },
      "execution_count": null,
      "outputs": [
        {
          "output_type": "stream",
          "name": "stdout",
          "text": [
            "      name  score\n",
            "1     Dima    9.0\n",
            "3    James    NaN\n",
            "5  Michael   20.0\n",
            "6  Matthew   14.5\n"
          ]
        }
      ]
    },
    {
      "cell_type": "markdown",
      "source": [
        "Use Crime dataset from LMS"
      ],
      "metadata": {
        "id": "psNyUsbQlagw"
      }
    },
    {
      "cell_type": "code",
      "source": [
        "from google.colab import drive\n",
        "drive.mount('/content/drive')\n"
      ],
      "metadata": {
        "colab": {
          "base_uri": "https://localhost:8080/"
        },
        "id": "eYhXfg9BlbfY",
        "outputId": "8f67b2bc-8bad-48c5-843b-e3eb4271141b"
      },
      "execution_count": null,
      "outputs": [
        {
          "output_type": "stream",
          "name": "stdout",
          "text": [
            "Mounted at /content/drive\n"
          ]
        }
      ]
    },
    {
      "cell_type": "code",
      "source": [
        "import pandas as pd\n",
        "\n",
        "df = pd.read_csv('/content/crime_data.csv')"
      ],
      "metadata": {
        "id": "8FO3yKvVly-P"
      },
      "execution_count": null,
      "outputs": []
    },
    {
      "cell_type": "code",
      "source": [
        "df.head()\n"
      ],
      "metadata": {
        "colab": {
          "base_uri": "https://localhost:8080/",
          "height": 206
        },
        "id": "mLFENZAkmdhl",
        "outputId": "2ccb7073-d476-4ec4-c914-458c45191ed8"
      },
      "execution_count": null,
      "outputs": [
        {
          "output_type": "execute_result",
          "data": {
            "text/plain": [
              "   Unnamed: 0  Murder  Assault  UrbanPop  Rape\n",
              "0     Alabama    13.2      236        58  21.2\n",
              "1      Alaska    10.0      263        48  44.5\n",
              "2     Arizona     8.1      294        80  31.0\n",
              "3    Arkansas     8.8      190        50  19.5\n",
              "4  California     9.0      276        91  40.6"
            ],
            "text/html": [
              "\n",
              "  <div id=\"df-12042554-35cd-4eeb-8e4f-c8cc6686b2c6\">\n",
              "    <div class=\"colab-df-container\">\n",
              "      <div>\n",
              "<style scoped>\n",
              "    .dataframe tbody tr th:only-of-type {\n",
              "        vertical-align: middle;\n",
              "    }\n",
              "\n",
              "    .dataframe tbody tr th {\n",
              "        vertical-align: top;\n",
              "    }\n",
              "\n",
              "    .dataframe thead th {\n",
              "        text-align: right;\n",
              "    }\n",
              "</style>\n",
              "<table border=\"1\" class=\"dataframe\">\n",
              "  <thead>\n",
              "    <tr style=\"text-align: right;\">\n",
              "      <th></th>\n",
              "      <th>Unnamed: 0</th>\n",
              "      <th>Murder</th>\n",
              "      <th>Assault</th>\n",
              "      <th>UrbanPop</th>\n",
              "      <th>Rape</th>\n",
              "    </tr>\n",
              "  </thead>\n",
              "  <tbody>\n",
              "    <tr>\n",
              "      <th>0</th>\n",
              "      <td>Alabama</td>\n",
              "      <td>13.2</td>\n",
              "      <td>236</td>\n",
              "      <td>58</td>\n",
              "      <td>21.2</td>\n",
              "    </tr>\n",
              "    <tr>\n",
              "      <th>1</th>\n",
              "      <td>Alaska</td>\n",
              "      <td>10.0</td>\n",
              "      <td>263</td>\n",
              "      <td>48</td>\n",
              "      <td>44.5</td>\n",
              "    </tr>\n",
              "    <tr>\n",
              "      <th>2</th>\n",
              "      <td>Arizona</td>\n",
              "      <td>8.1</td>\n",
              "      <td>294</td>\n",
              "      <td>80</td>\n",
              "      <td>31.0</td>\n",
              "    </tr>\n",
              "    <tr>\n",
              "      <th>3</th>\n",
              "      <td>Arkansas</td>\n",
              "      <td>8.8</td>\n",
              "      <td>190</td>\n",
              "      <td>50</td>\n",
              "      <td>19.5</td>\n",
              "    </tr>\n",
              "    <tr>\n",
              "      <th>4</th>\n",
              "      <td>California</td>\n",
              "      <td>9.0</td>\n",
              "      <td>276</td>\n",
              "      <td>91</td>\n",
              "      <td>40.6</td>\n",
              "    </tr>\n",
              "  </tbody>\n",
              "</table>\n",
              "</div>\n",
              "      <button class=\"colab-df-convert\" onclick=\"convertToInteractive('df-12042554-35cd-4eeb-8e4f-c8cc6686b2c6')\"\n",
              "              title=\"Convert this dataframe to an interactive table.\"\n",
              "              style=\"display:none;\">\n",
              "        \n",
              "  <svg xmlns=\"http://www.w3.org/2000/svg\" height=\"24px\"viewBox=\"0 0 24 24\"\n",
              "       width=\"24px\">\n",
              "    <path d=\"M0 0h24v24H0V0z\" fill=\"none\"/>\n",
              "    <path d=\"M18.56 5.44l.94 2.06.94-2.06 2.06-.94-2.06-.94-.94-2.06-.94 2.06-2.06.94zm-11 1L8.5 8.5l.94-2.06 2.06-.94-2.06-.94L8.5 2.5l-.94 2.06-2.06.94zm10 10l.94 2.06.94-2.06 2.06-.94-2.06-.94-.94-2.06-.94 2.06-2.06.94z\"/><path d=\"M17.41 7.96l-1.37-1.37c-.4-.4-.92-.59-1.43-.59-.52 0-1.04.2-1.43.59L10.3 9.45l-7.72 7.72c-.78.78-.78 2.05 0 2.83L4 21.41c.39.39.9.59 1.41.59.51 0 1.02-.2 1.41-.59l7.78-7.78 2.81-2.81c.8-.78.8-2.07 0-2.86zM5.41 20L4 18.59l7.72-7.72 1.47 1.35L5.41 20z\"/>\n",
              "  </svg>\n",
              "      </button>\n",
              "      \n",
              "  <style>\n",
              "    .colab-df-container {\n",
              "      display:flex;\n",
              "      flex-wrap:wrap;\n",
              "      gap: 12px;\n",
              "    }\n",
              "\n",
              "    .colab-df-convert {\n",
              "      background-color: #E8F0FE;\n",
              "      border: none;\n",
              "      border-radius: 50%;\n",
              "      cursor: pointer;\n",
              "      display: none;\n",
              "      fill: #1967D2;\n",
              "      height: 32px;\n",
              "      padding: 0 0 0 0;\n",
              "      width: 32px;\n",
              "    }\n",
              "\n",
              "    .colab-df-convert:hover {\n",
              "      background-color: #E2EBFA;\n",
              "      box-shadow: 0px 1px 2px rgba(60, 64, 67, 0.3), 0px 1px 3px 1px rgba(60, 64, 67, 0.15);\n",
              "      fill: #174EA6;\n",
              "    }\n",
              "\n",
              "    [theme=dark] .colab-df-convert {\n",
              "      background-color: #3B4455;\n",
              "      fill: #D2E3FC;\n",
              "    }\n",
              "\n",
              "    [theme=dark] .colab-df-convert:hover {\n",
              "      background-color: #434B5C;\n",
              "      box-shadow: 0px 1px 3px 1px rgba(0, 0, 0, 0.15);\n",
              "      filter: drop-shadow(0px 1px 2px rgba(0, 0, 0, 0.3));\n",
              "      fill: #FFFFFF;\n",
              "    }\n",
              "  </style>\n",
              "\n",
              "      <script>\n",
              "        const buttonEl =\n",
              "          document.querySelector('#df-12042554-35cd-4eeb-8e4f-c8cc6686b2c6 button.colab-df-convert');\n",
              "        buttonEl.style.display =\n",
              "          google.colab.kernel.accessAllowed ? 'block' : 'none';\n",
              "\n",
              "        async function convertToInteractive(key) {\n",
              "          const element = document.querySelector('#df-12042554-35cd-4eeb-8e4f-c8cc6686b2c6');\n",
              "          const dataTable =\n",
              "            await google.colab.kernel.invokeFunction('convertToInteractive',\n",
              "                                                     [key], {});\n",
              "          if (!dataTable) return;\n",
              "\n",
              "          const docLinkHtml = 'Like what you see? Visit the ' +\n",
              "            '<a target=\"_blank\" href=https://colab.research.google.com/notebooks/data_table.ipynb>data table notebook</a>'\n",
              "            + ' to learn more about interactive tables.';\n",
              "          element.innerHTML = '';\n",
              "          dataTable['output_type'] = 'display_data';\n",
              "          await google.colab.output.renderOutput(dataTable, element);\n",
              "          const docLink = document.createElement('div');\n",
              "          docLink.innerHTML = docLinkHtml;\n",
              "          element.appendChild(docLink);\n",
              "        }\n",
              "      </script>\n",
              "    </div>\n",
              "  </div>\n",
              "  "
            ]
          },
          "metadata": {},
          "execution_count": 21
        }
      ]
    },
    {
      "cell_type": "code",
      "source": [
        "df.value_counts()"
      ],
      "metadata": {
        "colab": {
          "base_uri": "https://localhost:8080/"
        },
        "id": "fo22qg5Pmq1G",
        "outputId": "153137ed-9761-47a9-cf4c-4998b4a1cb46"
      },
      "execution_count": null,
      "outputs": [
        {
          "output_type": "execute_result",
          "data": {
            "text/plain": [
              "Unnamed: 0      Murder  Assault  UrbanPop  Rape\n",
              "Alabama         13.2    236      58        21.2    1\n",
              "Pennsylvania    6.3     106      72        14.9    1\n",
              "Nevada          12.2    252      81        46.0    1\n",
              "New Hampshire   2.1     57       56        9.5     1\n",
              "New Jersey      7.4     159      89        18.8    1\n",
              "New Mexico      11.4    285      70        32.1    1\n",
              "New York        11.1    254      86        26.1    1\n",
              "North Carolina  13.0    337      45        16.1    1\n",
              "North Dakota    0.8     45       44        7.3     1\n",
              "Ohio            7.3     120      75        21.4    1\n",
              "Oklahoma        6.6     151      68        20.0    1\n",
              "Oregon          4.9     159      67        29.3    1\n",
              "Rhode Island    3.4     174      87        8.3     1\n",
              "Alaska          10.0    263      48        44.5    1\n",
              "South Carolina  14.4    279      48        22.5    1\n",
              "South Dakota    3.8     86       45        12.8    1\n",
              "Tennessee       13.2    188      59        26.9    1\n",
              "Texas           12.7    201      80        25.5    1\n",
              "Utah            3.2     120      80        22.9    1\n",
              "Vermont         2.2     48       32        11.2    1\n",
              "Virginia        8.5     156      63        20.7    1\n",
              "Washington      4.0     145      73        26.2    1\n",
              "West Virginia   5.7     81       39        9.3     1\n",
              "Wisconsin       2.6     53       66        10.8    1\n",
              "Nebraska        4.3     102      62        16.5    1\n",
              "Montana         6.0     109      53        16.4    1\n",
              "Missouri        9.0     178      70        28.2    1\n",
              "Mississippi     16.1    259      44        17.1    1\n",
              "Arizona         8.1     294      80        31.0    1\n",
              "Arkansas        8.8     190      50        19.5    1\n",
              "California      9.0     276      91        40.6    1\n",
              "Colorado        7.9     204      78        38.7    1\n",
              "Connecticut     3.3     110      77        11.1    1\n",
              "Delaware        5.9     238      72        15.8    1\n",
              "Florida         15.4    335      80        31.9    1\n",
              "Georgia         17.4    211      60        25.8    1\n",
              "Hawaii          5.3     46       83        20.2    1\n",
              "Idaho           2.6     120      54        14.2    1\n",
              "Illinois        10.4    249      83        24.0    1\n",
              "Indiana         7.2     113      65        21.0    1\n",
              "Iowa            2.2     56       57        11.3    1\n",
              "Kansas          6.0     115      66        18.0    1\n",
              "Kentucky        9.7     109      52        16.3    1\n",
              "Louisiana       15.4    249      66        22.2    1\n",
              "Maine           2.1     83       51        7.8     1\n",
              "Maryland        11.3    300      67        27.8    1\n",
              "Massachusetts   4.4     149      85        16.3    1\n",
              "Michigan        12.1    255      74        35.1    1\n",
              "Minnesota       2.7     72       66        14.9    1\n",
              "Wyoming         6.8     161      60        15.6    1\n",
              "dtype: int64"
            ]
          },
          "metadata": {},
          "execution_count": 24
        }
      ]
    },
    {
      "cell_type": "markdown",
      "source": [
        "do the plottings like plottings like histogram, boxplot, scatterplot, barplot, piechart,dot chart."
      ],
      "metadata": {
        "id": "e65MvP3IndjD"
      }
    },
    {
      "cell_type": "code",
      "source": [
        "import matplotlib.pyplot as plt\n",
        "import numpy as np\n",
        "\n",
        "# create a dataset with random numbers\n",
        "data = df['Assault']\n",
        "\n",
        "# plot histogram\n",
        "plt.hist(data, bins=30, alpha=0.5, color='blue')\n",
        "plt.title('Histogram')\n",
        "plt.xlabel('Values')\n",
        "plt.ylabel('Frequency')\n",
        "plt.show()\n"
      ],
      "metadata": {
        "colab": {
          "base_uri": "https://localhost:8080/",
          "height": 472
        },
        "id": "xWvtc3iNneSK",
        "outputId": "ca5a2725-0523-46e3-cd91-a946d671f766"
      },
      "execution_count": null,
      "outputs": [
        {
          "output_type": "display_data",
          "data": {
            "text/plain": [
              "<Figure size 640x480 with 1 Axes>"
            ],
            "image/png": "[encoded data removed]"
          },
          "metadata": {}
        }
      ]
    },
    {
      "cell_type": "code",
      "source": [
        "import matplotlib.pyplot as plt\n",
        "import numpy as np\n",
        "\n",
        "# create a dataset with random numbers\n",
        "data = df['Murder']\n",
        "\n",
        "# plot boxplot\n",
        "plt.boxplot(data)\n",
        "plt.title('Boxplot')\n",
        "plt.ylabel('Values')\n",
        "plt.show()\n"
      ],
      "metadata": {
        "colab": {
          "base_uri": "https://localhost:8080/",
          "height": 452
        },
        "id": "qze-ViB1oViA",
        "outputId": "15de7ed9-8d7b-4dfa-d6b3-11c6279c24dd"
      },
      "execution_count": null,
      "outputs": [
        {
          "output_type": "display_data",
          "data": {
            "text/plain": [
              "<Figure size 640x480 with 1 Axes>"
            ],
            "image/png": "[encoded data removed]"
          },
          "metadata": {}
        }
      ]
    },
    {
      "cell_type": "code",
      "source": [
        "import matplotlib.pyplot as plt\n",
        "import numpy as np\n",
        "\n",
        "# create a dataset with random numbers\n",
        "x = df['Rape']\n",
        "y = df['Assault']\n",
        "\n",
        "# plot scatterplot\n",
        "plt.scatter(x, y, alpha=0.5, color=['blue'])\n",
        "plt.title('Scatterplot')\n",
        "plt.xlabel('X')\n",
        "plt.ylabel('Y')\n",
        "plt.show()\n"
      ],
      "metadata": {
        "colab": {
          "base_uri": "https://localhost:8080/",
          "height": 472
        },
        "id": "7mbdrSg4op0f",
        "outputId": "8a4df6ae-a75b-42d5-97ca-1ac57b3b4df8"
      },
      "execution_count": null,
      "outputs": [
        {
          "output_type": "display_data",
          "data": {
            "text/plain": [
              "<Figure size 640x480 with 1 Axes>"
            ],
            "image/png": "[encoded data removed]"
          },
          "metadata": {}
        }
      ]
    },
    {
      "cell_type": "code",
      "source": [
        "import matplotlib.pyplot as plt\n",
        "import numpy as np\n",
        "\n",
        "# create a dataset with random numbers\n",
        "data = df['UrbanPop']\n",
        "\n",
        "# plot barplot\n",
        "plt.bar(range(len(data)), data, alpha=0.5, color='blue')\n",
        "plt.title('Barplot')\n",
        "plt.xlabel('Values')\n",
        "plt.ylabel('Frequency')\n",
        "plt.show()\n"
      ],
      "metadata": {
        "colab": {
          "base_uri": "https://localhost:8080/",
          "height": 472
        },
        "id": "05N_T_3PpcHd",
        "outputId": "1ceb1485-263a-4145-e598-aa63e2907d6c"
      },
      "execution_count": null,
      "outputs": [
        {
          "output_type": "display_data",
          "data": {
            "text/plain": [
              "<Figure size 640x480 with 1 Axes>"
            ],
            "image/png": "[encoded data removed]"
          },
          "metadata": {}
        }
      ]
    },
    {
      "cell_type": "markdown",
      "source": [
        " Write Python Programs to use various operators in Python"
      ],
      "metadata": {
        "id": "5oCQkqlEsxxa"
      }
    },
    {
      "cell_type": "code",
      "source": [
        "# Addition\n",
        "a = 5\n",
        "b = 3\n",
        "c = a + b\n",
        "print(c) # Output: 8\n",
        "\n",
        "# Subtraction\n",
        "d = a - b\n",
        "print(d) # Output: 2\n",
        "\n",
        "# Multiplication\n",
        "e = a * b\n",
        "print(e) # Output: 15\n",
        "\n",
        "# Division\n",
        "f = a / b\n",
        "print(f) # Output: 1.6666666666666667\n",
        "\n",
        "# Modulus\n",
        "g = a % b\n",
        "print(g) # Output: 2\n",
        "\n",
        "# Exponentiation\n",
        "h = a ** b\n",
        "print(h) # Output: 125\n"
      ],
      "metadata": {
        "colab": {
          "base_uri": "https://localhost:8080/"
        },
        "id": "h8CVmBYws0SL",
        "outputId": "bec0a7be-eaad-4e3b-c37a-b6c378af539e"
      },
      "execution_count": null,
      "outputs": [
        {
          "output_type": "stream",
          "name": "stdout",
          "text": [
            "8\n",
            "2\n",
            "15\n",
            "1.6666666666666667\n",
            "2\n",
            "125\n"
          ]
        }
      ]
    },
    {
      "cell_type": "code",
      "source": [
        "# Assigning a value to a variable\n",
        "x = 10\n",
        "print(x) # Output: 10\n",
        "\n",
        "# Incrementing a variable\n",
        "x += 5\n",
        "print(x) # Output: 15\n",
        "\n",
        "# Decrementing a variable\n",
        "x -= 3\n",
        "print(x) # Output: 12\n",
        "\n",
        "# Multiplying a variable by a value\n",
        "x *= 2\n",
        "print(x) # Output: 24\n",
        "\n",
        "# Dividing a variable by a value\n",
        "x /= 4\n",
        "print(x) # Output: 6.0\n",
        "\n",
        "# Using the modulus operator with a variable\n",
        "x %= 2\n",
        "print(x) # Output: 0.0\n"
      ],
      "metadata": {
        "colab": {
          "base_uri": "https://localhost:8080/"
        },
        "id": "KIXsodb5thDZ",
        "outputId": "77b45eed-6963-4cd0-f207-ab88c812cdc2"
      },
      "execution_count": null,
      "outputs": [
        {
          "output_type": "stream",
          "name": "stdout",
          "text": [
            "10\n",
            "15\n",
            "12\n",
            "24\n",
            "6.0\n",
            "0.0\n"
          ]
        }
      ]
    },
    {
      "cell_type": "markdown",
      "source": [
        "Create list of elements and slice and dice it"
      ],
      "metadata": {
        "id": "zFrg0mmbtweg"
      }
    },
    {
      "cell_type": "code",
      "source": [
        "# Create a list of elements\n",
        "my_list = [2, 4, 6, 8, 10, 12, 14, 16]\n",
        "\n",
        "# Print the entire list\n",
        "print(my_list) # Output: [2, 4, 6, 8, 10, 12, 14, 16]\n",
        "\n",
        "# Slice the list to get the first four elements\n",
        "first_four = my_list[:4]\n",
        "print(first_four) # Output: [2, 4, 6, 8]\n",
        "\n",
        "# Slice the list to get the last four elements\n",
        "last_four = my_list[-4:]\n",
        "print(last_four) # Output: [10, 12, 14, 16]"
      ],
      "metadata": {
        "colab": {
          "base_uri": "https://localhost:8080/"
        },
        "id": "mGdw_V5ptxOw",
        "outputId": "5d50d250-d82f-4ffb-eab4-fd5d8a545270"
      },
      "execution_count": null,
      "outputs": [
        {
          "output_type": "stream",
          "name": "stdout",
          "text": [
            "[2, 4, 6, 8, 10, 12, 14, 16]\n",
            "[2, 4, 6, 8]\n",
            "[10, 12, 14, 16]\n"
          ]
        }
      ]
    },
    {
      "cell_type": "markdown",
      "source": [
        "Using while loop accept numbers until sum of numbers is less than 100"
      ],
      "metadata": {
        "id": "dVcF24AXt1WP"
      }
    },
    {
      "cell_type": "code",
      "source": [
        "# Initialize a variable to keep track of the sum\n",
        "total = 0\n",
        "\n",
        "# Keep accepting numbers until the sum is at least 100\n",
        "while total < 100:\n",
        "    num = int(input(\"Enter a number: \"))\n",
        "    total += num\n",
        "\n",
        "# Print the final sum\n",
        "print(\"The sum is:\", total)\n"
      ],
      "metadata": {
        "colab": {
          "base_uri": "https://localhost:8080/"
        },
        "id": "jgFr9WvHt2J7",
        "outputId": "9aa8a4e2-792a-4ca5-c732-7dfbca8a46c9"
      },
      "execution_count": null,
      "outputs": [
        {
          "name": "stdout",
          "output_type": "stream",
          "text": [
            "Enter a number: 44\n",
            "Enter a number: 25\n"
          ]
        }
      ]
    },
    {
      "cell_type": "markdown",
      "source": [
        " Write a python program to scrape reviews from a commercial web site"
      ],
      "metadata": {
        "id": "iArn8CQ-uE-X"
      }
    },
    {
      "cell_type": "code",
      "source": [
        "import requests\n",
        "from bs4 import BeautifulSoup\n",
        "\n",
        "# Specify the URL of the webpage to scrape\n",
        "url = \"https://www.amazon.in/Apple-iPhone-11-64GB-White/product-reviews/B07XVKBY68/ref=cm_cr_dp_d_show_all_btm?ie=UTF8&reviewerType=all_reviews\"\n",
        "\n",
        "# Send a GET request to the webpage\n",
        "response = requests.get(url)\n",
        "\n",
        "# Parse the HTML content of the webpage using BeautifulSoup\n",
        "soup = BeautifulSoup(response.content, \"html.parser\")\n",
        "\n",
        "# Find all the review elements on the webpage\n",
        "reviews = soup.find_all(\"div\", {\"data-hook\": \"review\"})\n",
        "\n",
        "# Loop through each review element and extract the review text and rating\n",
        "for review in reviews:\n",
        "    text = review.find(\"span\", {\"data-hook\": \"review-body\"}).text.strip()\n",
        "    rating = review.find(\"i\", {\"data-hook\": \"review-star-rating\"}).text.strip()\n",
        "    print(\"Rating:\", rating)\n",
        "    print(\"Review text:\", text)\n",
        "    print()\n"
      ],
      "metadata": {
        "id": "vHp-PB6buJWI"
      },
      "execution_count": null,
      "outputs": []
    },
    {
      "cell_type": "markdown",
      "source": [
        "Create a 3x3 matrix with values ranging from 2 to 10 using numpy\n"
      ],
      "metadata": {
        "id": "QoKEF2zMuV0m"
      }
    },
    {
      "cell_type": "code",
      "source": [
        "import numpy as np\n",
        "\n",
        "# Create a 3x3 matrix with values ranging from 2 to 10\n",
        "my_matrix = np.arange(2, 11).reshape((3, 3))\n",
        "\n",
        "# Print the matrix\n",
        "print(my_matrix)\n"
      ],
      "metadata": {
        "id": "-O_bhvGhuW09"
      },
      "execution_count": null,
      "outputs": []
    },
    {
      "cell_type": "markdown",
      "source": [
        "Write a Python program to convert a list of numeric value into a one-dimensional NumPy array\n"
      ],
      "metadata": {
        "id": "UHfR6n1XusC1"
      }
    },
    {
      "cell_type": "code",
      "source": [
        "import numpy as np\n",
        "\n",
        "# Define a list of numeric values\n",
        "my_list = [1, 2, 3, 4, 5]\n",
        "\n",
        "# Convert the list to a one-dimensional NumPy array\n",
        "my_array = np.array(my_list)\n",
        "\n",
        "# Print the array\n",
        "print(my_array)\n"
      ],
      "metadata": {
        "id": "GIeoqtIVuvF1"
      },
      "execution_count": null,
      "outputs": []
    },
    {
      "cell_type": "markdown",
      "source": [
        "\"Write a Python program to create a null vector of size 10 and update sixth value to 11.\n"
      ],
      "metadata": {
        "id": "0Cdom1l8u2q0"
      }
    },
    {
      "cell_type": "code",
      "source": [
        "import numpy as np\n",
        "\n",
        "# Create a null vector of size 10\n",
        "my_vector = np.zeros(10)\n",
        "\n",
        "# Update the sixth value to 11\n",
        "my_vector[5] = 11\n",
        "\n",
        "# Print the vector\n",
        "print(my_vector)\n"
      ],
      "metadata": {
        "id": "cfiJy_S4u45W"
      },
      "execution_count": null,
      "outputs": []
    }
  ]
}